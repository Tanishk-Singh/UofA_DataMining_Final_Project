{
 "cells": [
  {
   "cell_type": "markdown",
   "id": "88f2831f",
   "metadata": {},
   "source": [
    "### Question 3 : Time Series Analysis for Sales Forecasting\n",
    "\n",
    "Can we develop a reliable time series model to forecast future sales volumes and identify \n",
    "seasonal patterns in the Brazilian e-commerce market?"
   ]
  },
  {
   "cell_type": "markdown",
   "id": "47aff2c6",
   "metadata": {},
   "source": [
    "#### CSV Structure\n",
    "\n",
    "olist_customers_dataset.csv\n",
    "\n",
    "    customer_id – unique per order\n",
    "\n",
    "    customer_unique_id – consistent across all orders from a customer\n",
    "\n",
    "    customer_zip_code_prefix – first digits of Brazilian zip codes\n",
    "\n",
    "    customer_city and customer_state\n",
    "\n",
    "\n",
    "olist_geolocation_dataset.csv\n",
    "\n",
    "    geolocation_zip_code_prefix – same format as customer zip\n",
    "\n",
    "    geolocation_lat, geolocation_lng – latitude & longitude\n",
    "\n",
    "    geolocation_city, geolocation_state"
   ]
  },
  {
   "cell_type": "markdown",
   "id": "4a995df7",
   "metadata": {},
   "source": [
    "Data"
   ]
  },
  {
   "cell_type": "code",
   "execution_count": 5,
   "id": "67d8eaf4",
   "metadata": {},
   "outputs": [],
   "source": [
    "import pandas as pd\n",
    "\n",
    "\n",
    "customers_df = pd.read_csv(\"../Dataset/raw/olist_customers_dataset.csv\")\n",
    "geolocation_df = pd.read_csv(\"../Dataset/raw/olist_geolocation_dataset.csv\")\n"
   ]
  },
  {
   "cell_type": "markdown",
   "id": "21b7877b",
   "metadata": {},
   "source": [
    "Clean data"
   ]
  },
  {
   "cell_type": "code",
   "execution_count": null,
   "id": "18d18d96",
   "metadata": {},
   "outputs": [
    {
     "name": "stdout",
     "output_type": "stream",
     "text": [
      "Duplicate customer_id: 0\n",
      "Duplicate customer_unique_id: 3345\n",
      "Missing values in customers:\n",
      " customer_id                 0\n",
      "customer_unique_id          0\n",
      "customer_zip_code_prefix    0\n",
      "customer_city               0\n",
      "customer_state              0\n",
      "dtype: int64\n"
     ]
    }
   ],
   "source": [
    "# Check for and remove duplicates if necessary\n",
    "print(\"Duplicate customer_id:\", customers_df.duplicated(subset='customer_id').sum())\n",
    "print(\"Duplicate customer_unique_id:\", customers_df.duplicated(subset='customer_unique_id').sum())\n",
    "\n",
    "# check for negative zipcode values\n",
    "assert (customers_df['customer_zip_code_prefix'] >= 0).all(), \"Invalid ZIP codes found!\"\n",
    "\n",
    "# missing values\n",
    "print(\"Missing values in customers:\\n\", customers_df.isnull().sum())\n"
   ]
  },
  {
   "cell_type": "markdown",
   "id": "5cb19125",
   "metadata": {},
   "source": [
    "No missing values found. \n",
    "Duplicate unique customers ids means that a customer may have placed more than one order. With the question on focus, duplicate values should not be dropped."
   ]
  }
 ],
 "metadata": {
  "kernelspec": {
   "display_name": "Python 3",
   "language": "python",
   "name": "python3"
  },
  "language_info": {
   "codemirror_mode": {
    "name": "ipython",
    "version": 3
   },
   "file_extension": ".py",
   "mimetype": "text/x-python",
   "name": "python",
   "nbconvert_exporter": "python",
   "pygments_lexer": "ipython3",
   "version": "3.13.1"
  }
 },
 "nbformat": 4,
 "nbformat_minor": 5
}
